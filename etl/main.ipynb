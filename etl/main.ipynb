{
 "cells": [
  {
   "cell_type": "code",
   "execution_count": 918,
   "metadata": {},
   "outputs": [],
   "source": [
    "import pandas as pd\n",
    "import numpy as np\n",
    "from datetime import datetime\n",
    "import psycopg2"
   ]
  },
  {
   "cell_type": "markdown",
   "metadata": {},
   "source": [
    "### Extract data from CSV files - Extract"
   ]
  },
  {
   "cell_type": "code",
   "execution_count": 919,
   "metadata": {},
   "outputs": [],
   "source": [
    "employees_df = pd.read_csv(\"../data/employee_data.csv\")\n",
    "training_development_df = pd.read_csv(\"../data/training_and_development_data.csv\")\n",
    "employees_engagment_df = pd.read_csv(\"../data/employee_engagement_survey_data.csv\")"
   ]
  },
  {
   "cell_type": "markdown",
   "metadata": {},
   "source": [
    "##### Function to Create/Connect in database"
   ]
  },
  {
   "cell_type": "code",
   "execution_count": 920,
   "metadata": {},
   "outputs": [],
   "source": [
    "def create_database():\n",
    "  try:\n",
    "    conn = psycopg2.connect(\"host=localhost dbname=postgres user=postgres password=--\")\n",
    "    \n",
    "    conn.set_session(autocommit=True)\n",
    "    cur = conn.cursor()\n",
    "\n",
    "    cur.execute(f\"DROP DATABASE IF EXISTS employees\")\n",
    "    cur.execute(f\"CREATE DATABASE employees\")\n",
    "  except psycopg2.Error as e:\n",
    "    print(e)\n",
    "  finally:\n",
    "    conn.close()\n",
    "\n",
    "  conn = psycopg2.connect(f\"host=localhost dbname=employees user=postgres password=--\")\n",
    "  cur = conn.cursor()\n",
    "\n",
    "  return cur, conn"
   ]
  },
  {
   "cell_type": "code",
   "execution_count": 922,
   "metadata": {},
   "outputs": [
    {
     "name": "stdout",
     "output_type": "stream",
     "text": [
      "database \"employees\" is being accessed by other users\n",
      "DETAIL:  There are 7 other sessions using the database.\n",
      "\n"
     ]
    }
   ],
   "source": [
    "cur, conn = create_database()"
   ]
  },
  {
   "cell_type": "markdown",
   "metadata": {},
   "source": [
    "### Transform"
   ]
  },
  {
   "cell_type": "code",
   "execution_count": 923,
   "metadata": {},
   "outputs": [],
   "source": [
    "employees_df = employees_df.loc[:, [\"EmpID\",\"FirstName\",\"LastName\",\"DOB\",\"GenderCode\",\"State\",\"RaceDesc\",\"StartDate\",\"ExitDate\",\\\n",
    "  \"Title\",\"EmployeeStatus\",\"EmployeeType\",\"EmployeeClassificationType\",\"TerminationType\",\"DepartmentType\",\"Division\",\"JobFunctionDescription\",\\\n",
    "  \"Performance Score\",\"Current Employee Rating\"]]\n",
    "\n",
    "employees_df.rename(columns={\"DOB\":\"Birthday\"}, inplace=True)\n",
    "\n",
    "for i, row in employees_df.iterrows():\n",
    "  date = row['Birthday']\n",
    "  d, m, y = date.split(\"-\")\n",
    "  employees_df.iloc[i, 3] = f\"{m}-{d}-{y}\"\n",
    "\n",
    "for i, row in employees_df.iterrows():\n",
    "  date_obj = datetime.strptime(row['StartDate'], \"%d-%b-%y\")\n",
    "  m = date_obj.month  \n",
    "  d, _, y = date.split(\"-\")\n",
    "  employees_df.iloc[i, 7] = f\"{m}-{d}-{y}\"\n",
    "\n",
    "for i, row in employees_df.iterrows():\n",
    "  if(row['ExitDate'] is not np.nan):\n",
    "     date_obj = datetime.strptime(row['ExitDate'], \"%d-%b-%y\")\n",
    "     m = date_obj.month  \n",
    "     d, _, y = date.split(\"-\")\n",
    "     employees_df.iloc[i, 8] = f\"{m}-{d}-{y}\"\n",
    "  else:\n",
    "    pass"
   ]
  },
  {
   "cell_type": "code",
   "execution_count": 924,
   "metadata": {},
   "outputs": [],
   "source": [
    "training_development_df.rename(columns={\"Employee ID\": \"Employee_ID\", \"Training Date\": \"Training_Date\", \"Training Program Name\": \"Training_Program_Name\t\",\\\n",
    "  \"Training Type\": \"Training_Type\",\"Training Outcome\": \"Training_Outcome\", \"Training Duration(Days)\": \"Training_Duration(Days)\", \"Training Cost\": \"Training_Cost\"}, inplace=True)\n",
    "\n",
    "for i, row in training_development_df.iterrows():\n",
    "  date_obj = datetime.strptime(row['Training_Date'], \"%d-%b-%y\")\n",
    "  m = date_obj.month  \n",
    "  d, _, y = date.split(\"-\")\n",
    "  training_development_df.iloc[i, 1] = f\"{m}-{d}-{y}\""
   ]
  },
  {
   "cell_type": "code",
   "execution_count": 925,
   "metadata": {},
   "outputs": [],
   "source": [
    "employees_engagment_df.rename(columns={\"Employee ID\": \"Employee_ID\", \"Survey Date\": \"Survey_Date\", \"Engagement Score\": \"Engagement_Score\",\"Satisfaction Score\":\"Satisfaction_Score\",\"Work-Life Balance Score\": \"Work-Life_Balance_Score\"}, inplace=True)\n",
    "\n",
    "for i, row in employees_engagment_df.iterrows():\n",
    "  date = row['Survey_Date']\n",
    "  d, m, y = date.split(\"-\")\n",
    "  employees_engagment_df.iloc[i, 1] = f\"{m}-{d}-{y}\"\n"
   ]
  },
  {
   "cell_type": "markdown",
   "metadata": {},
   "source": [
    "### Create tables definition for the three DataFrames"
   ]
  },
  {
   "cell_type": "markdown",
   "metadata": {},
   "source": [
    "##### Data Model\n",
    "![Data Model](../img/Employees.png)"
   ]
  },
  {
   "cell_type": "code",
   "execution_count": 926,
   "metadata": {},
   "outputs": [],
   "source": [
    "employees_table_create = (\"\"\"CREATE TABLE IF NOT EXISTS employees_data(\n",
    "    Emp_ID INT PRIMARY KEY,\n",
    "    First_Name VARCHAR(60) NOT NULL,\n",
    "    Last_Name VARCHAR(60) NOT NULL,\n",
    "    Birthday VARCHAR(10) NOT NULL,\n",
    "    Gender_Code VARCHAR(6) NOT NULL,\n",
    "    State VARCHAR(2) NOT NULL,\n",
    "    Race_Desc VARCHAR(10) NOT NULL,\n",
    "    Start_Date VARCHAR(10) NOT NULL,\n",
    "    Exit_Date VARCHAR(10),\n",
    "    Title VARCHAR(3000) NOT NULL,\n",
    "    Employee_Status VARCHAR(30) NOT NULL,\n",
    "    Employee_Type VARCHAR(30) NOT NULL,\n",
    "    Employee_ClassificationType VARCHAR(30) NOT NULL,\n",
    "    Termination_Type VARCHAR(30) NOT NULL,\n",
    "    Department_Type VARCHAR(30) NOT NULL,\n",
    "    Division VARCHAR(60) NOT NULL,\n",
    "    Job_Function_Description VARCHAR(60) NOT NULL,\n",
    "    Performance_Score VARCHAR(60) NOT NULL,\n",
    "    Current_Employee_Rating INT\n",
    ")\"\"\")\n",
    "\n",
    "cur.execute(employees_table_create)\n",
    "conn.commit()"
   ]
  },
  {
   "cell_type": "code",
   "execution_count": 927,
   "metadata": {},
   "outputs": [],
   "source": [
    "training_development_create_table = (\"\"\"CREATE TABLE IF NOT EXISTS training_data (\n",
    "    Employee_ID INT PRIMARY KEY,\n",
    "    Training_Date VARCHAR(10) NOT NULL,\n",
    "    Training_Program_Name varchar(100) NOT NULL,\n",
    "    Training_Type VARCHAR(100) NOT NULL,\n",
    "    Training_Outcome VARCHAR(100) NOT NULL,\n",
    "    Location VARCHAR(100) NOT NULL,\n",
    "    Trainer VARCHAR(100) NOT NULL,\n",
    "    Training_Duration_Days INT NOT NULL,\n",
    "    Training_Cost numeric(10, 2) NOT NULL\n",
    ")\"\"\")\n",
    "\n",
    "cur.execute(training_development_create_table)\n",
    "conn.commit()"
   ]
  },
  {
   "cell_type": "code",
   "execution_count": 928,
   "metadata": {},
   "outputs": [],
   "source": [
    "employees_engagment_df_create_table = (\"\"\"CREATE TABLE IF NOT EXISTS employees_survey(\n",
    "    Employee_ID INT PRIMARY KEY,\n",
    "    Survey_Date VARCHAR(10) NOT NULL,\n",
    "    Engagement_Score INT NOT NULL,\n",
    "    Satisfaction_Score INT NOT NULL,\n",
    "    WorkLife_Balance_Score INT NOT NULL\n",
    ")\"\"\")\n",
    "\n",
    "cur.execute(employees_engagment_df_create_table)\n",
    "conn.commit()"
   ]
  },
  {
   "cell_type": "markdown",
   "metadata": {},
   "source": [
    "### Dataframe data to PostgresSQL - Loading"
   ]
  },
  {
   "cell_type": "code",
   "execution_count": 929,
   "metadata": {},
   "outputs": [],
   "source": [
    "employees_table_insert = (\"\"\"INSERT INTO employees_data(\n",
    "            emp_id, first_name, last_name, birthday, gender_code, state, race_desc,\n",
    "            start_date, exit_date, title, employee_status, employee_type,\n",
    "            employee_classificationType, termination_type, department_type, division,\n",
    "            job_function_description, performance_score, current_employee_rating\n",
    "        ) VALUES (\n",
    "            %s, %s, %s, %s, %s, %s, %s,\n",
    "            %s, %s, %s, %s, %s,\n",
    "            %s, %s, %s, %s, %s, %s, %s\n",
    "        )\n",
    "    \"\"\")"
   ]
  },
  {
   "cell_type": "code",
   "execution_count": 930,
   "metadata": {},
   "outputs": [],
   "source": [
    "for i, row in employees_df.iterrows():\n",
    "  cur.execute(employees_table_insert, tuple(row))"
   ]
  },
  {
   "cell_type": "code",
   "execution_count": 931,
   "metadata": {},
   "outputs": [],
   "source": [
    "training_development_create_table = (\"\"\"INSERT INTO training_data (\n",
    "    Employee_ID,\n",
    "    Training_Date,\n",
    "    Training_Program_Name,\n",
    "    Training_Type,\n",
    "    Training_Outcome,\n",
    "    Location,\n",
    "    Trainer,\n",
    "    Training_Duration_Days,\n",
    "    Training_Cost) \n",
    "    VALUES (%s, %s, %s, %s, %s, %s, %s, %s, %s)\n",
    "\"\"\")"
   ]
  },
  {
   "cell_type": "code",
   "execution_count": 932,
   "metadata": {},
   "outputs": [],
   "source": [
    "for i, row in training_development_df.iterrows():\n",
    "  cur.execute(training_development_create_table, tuple(row))"
   ]
  },
  {
   "cell_type": "code",
   "execution_count": 933,
   "metadata": {},
   "outputs": [],
   "source": [
    "employees_engagment_insert = (\"\"\"INSERT INTO employees_survey (\n",
    "  Employee_ID, \n",
    "  Survey_Date, \n",
    "  Engagement_Score, \n",
    "  Satisfaction_Score, \n",
    "  WorkLife_Balance_Score) \n",
    "  VALUES(%s, %s, %s, %s, %s)\n",
    "\"\"\")"
   ]
  },
  {
   "cell_type": "code",
   "execution_count": 934,
   "metadata": {},
   "outputs": [],
   "source": [
    "for i, row in employees_engagment_df.iterrows():\n",
    "  cur.execute(employees_engagment_insert, tuple(row))"
   ]
  },
  {
   "cell_type": "code",
   "execution_count": 935,
   "metadata": {},
   "outputs": [],
   "source": [
    "conn.commit()"
   ]
  }
 ],
 "metadata": {
  "kernelspec": {
   "display_name": "Python 3",
   "language": "python",
   "name": "python3"
  },
  "language_info": {
   "codemirror_mode": {
    "name": "ipython",
    "version": 3
   },
   "file_extension": ".py",
   "mimetype": "text/x-python",
   "name": "python",
   "nbconvert_exporter": "python",
   "pygments_lexer": "ipython3",
   "version": "3.11.5"
  },
  "orig_nbformat": 4
 },
 "nbformat": 4,
 "nbformat_minor": 2
}
